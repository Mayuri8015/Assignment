{
 "cells": [
  {
   "cell_type": "markdown",
   "id": "c831fe23",
   "metadata": {},
   "source": [
    "# 1) ANS"
   ]
  },
  {
   "cell_type": "code",
   "execution_count": null,
   "id": "7a1bd331",
   "metadata": {},
   "outputs": [],
   "source": [
    "*= multiplication operater\n",
    "'hello'= string\n",
    "-87.8= float\n",
    "- = substraction\n",
    "/= divide\n",
    "+= addition\n",
    "6= int"
   ]
  },
  {
   "cell_type": "markdown",
   "id": "14904537",
   "metadata": {},
   "source": [
    "# 2) ANS"
   ]
  },
  {
   "cell_type": "markdown",
   "id": "bd2abc87",
   "metadata": {},
   "source": [
    "STRING :- String is a data type used to represent text or sequence of characters. and it is also represent by quotes \"Hello\" ,\"12345\"\n",
    "string are immutable their value can not chnage if they are assignd\n",
    "VARIABLE:- A Variable is stroage location in program memory where we can store data of various types.\n",
    "variable hold the data just like container\n",
    "variable are placeholder for data and they can hold not only string but also number, boolean or other data types.\n"
   ]
  },
  {
   "cell_type": "markdown",
   "id": "00006627",
   "metadata": {},
   "source": [
    "# 3) ANS data types"
   ]
  },
  {
   "cell_type": "code",
   "execution_count": null,
   "id": "76a44566",
   "metadata": {},
   "outputs": [],
   "source": [
    "1) String \n",
    "\"Mayuri\"\n",
    "2) float\n",
    "\"85.95\"\n",
    "3) Boolean\n",
    "*,+,-,/,<,>\n",
    "4) Complex\n",
    " 8+5j"
   ]
  },
  {
   "cell_type": "markdown",
   "id": "88b7c293",
   "metadata": {},
   "source": [
    "# 4) ANS"
   ]
  },
  {
   "cell_type": "code",
   "execution_count": null,
   "id": "a2098067",
   "metadata": {},
   "outputs": [],
   "source": [
    "An expression in mathematics or computer programming is typically made up of one or more. i.e. \n",
    "Variables:- These are symbols that represent values. Ex. \"x+2\", \"x\" is a variables.\n",
    "Constants:- These are fixed values like numbers.'x+2','2'is a constant.\n",
    "Operators:- These are symbols that perform operations on variables and constant ,+,-,/\n",
    "Function :- is more complex expressions, functions may be used to manipulate variable and constants. Ex Sin(x)    "
   ]
  },
  {
   "cell_type": "markdown",
   "id": "eaca4a58",
   "metadata": {},
   "source": [
    "# 5) ANS\n",
    "An Expression evaluates to a single value. A statement does not"
   ]
  },
  {
   "cell_type": "markdown",
   "id": "eecbd39d",
   "metadata": {},
   "source": [
    "# 6) ANS\n",
    "bacon=22\n",
    "bacon+1\n",
    "ans= 23"
   ]
  },
  {
   "cell_type": "markdown",
   "id": "ada39fa8",
   "metadata": {},
   "source": [
    "# 7)ANS \n",
    "'Spam'+'spamspam'\n",
    "'spam'*3\n",
    "'spamspamspam'"
   ]
  },
  {
   "cell_type": "markdown",
   "id": "83aa0d66",
   "metadata": {},
   "source": [
    "# 8) ANS\n",
    "Because variable number can not being with a number."
   ]
  },
  {
   "cell_type": "markdown",
   "id": "76500cb1",
   "metadata": {},
   "source": [
    "# 9)ANS\n",
    "str()\n",
    "int()\n",
    "float()"
   ]
  },
  {
   "cell_type": "markdown",
   "id": "912cc0b7",
   "metadata": {},
   "source": [
    "# 10) ANS"
   ]
  },
  {
   "cell_type": "code",
   "execution_count": 1,
   "id": "06dfa41a",
   "metadata": {},
   "outputs": [
    {
     "ename": "TypeError",
     "evalue": "can only concatenate str (not \"int\") to str",
     "output_type": "error",
     "traceback": [
      "\u001b[1;31m---------------------------------------------------------------------------\u001b[0m",
      "\u001b[1;31mTypeError\u001b[0m                                 Traceback (most recent call last)",
      "Cell \u001b[1;32mIn[1], line 1\u001b[0m\n\u001b[1;32m----> 1\u001b[0m \u001b[38;5;124m'\u001b[39m\u001b[38;5;124mi have eaten\u001b[39m\u001b[38;5;124m'\u001b[39m\u001b[38;5;241m+\u001b[39m \u001b[38;5;241m99\u001b[39m \u001b[38;5;241m+\u001b[39m \u001b[38;5;124m'\u001b[39m\u001b[38;5;124mburritos\u001b[39m\u001b[38;5;124m'\u001b[39m\n",
      "\u001b[1;31mTypeError\u001b[0m: can only concatenate str (not \"int\") to str"
     ]
    }
   ],
   "source": [
    "'i have eaten'+ 99 + 'burritos'"
   ]
  },
  {
   "cell_type": "code",
   "execution_count": null,
   "id": "ae688a87",
   "metadata": {},
   "outputs": [],
   "source": [
    "This expression causes and error because in this line 'i have eaten'and 'burritos' are string. and 99 is integer."
   ]
  }
 ],
 "metadata": {
  "kernelspec": {
   "display_name": "Python 3 (ipykernel)",
   "language": "python",
   "name": "python3"
  },
  "language_info": {
   "codemirror_mode": {
    "name": "ipython",
    "version": 3
   },
   "file_extension": ".py",
   "mimetype": "text/x-python",
   "name": "python",
   "nbconvert_exporter": "python",
   "pygments_lexer": "ipython3",
   "version": "3.11.4"
  }
 },
 "nbformat": 4,
 "nbformat_minor": 5
}
